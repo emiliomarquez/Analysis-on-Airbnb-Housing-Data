{
 "cells": [
  {
   "cell_type": "markdown",
   "metadata": {},
   "source": [
    "# COGS 108 - Final Project Proposal"
   ]
  },
  {
   "cell_type": "markdown",
   "metadata": {},
   "source": [
    "# Names\n",
    "\n",
    "- Lian Lumada\n",
    "- Haimei Yu\n",
    "- Tianye Fan\n",
    "- Hanbyul Ryu\n",
    "- Emilio Marquez-Fernandez"
   ]
  },
  {
   "cell_type": "markdown",
   "metadata": {},
   "source": [
    "# Group Members IDs\n",
    "\n",
    "- A15131176\n",
    "- A15255117\n",
    "- A16182582\n",
    "- A15221709\n",
    "- A13911842"
   ]
  },
  {
   "cell_type": "markdown",
   "metadata": {},
   "source": [
    "# Research Question"
   ]
  },
  {
   "cell_type": "markdown",
   "metadata": {},
   "source": [
    "Can we indicate the price of an Airbnb listing in San Francisco and San Marcos just by looking at the number of Uber usage nearby?"
   ]
  },
  {
   "cell_type": "markdown",
   "metadata": {},
   "source": [
    "## Background and Prior Work"
   ]
  },
  {
   "cell_type": "markdown",
   "metadata": {},
   "source": [
    "Airbnb is becoming a popular housing destination for those who travel a lot, especially among college students who want to travel with their friends over a short break. However, there seems to be a certain amount of ambiguity in how the prices are set. When asked how prices are determined, Airbnb released a statement saying, \"the total price of a reservation on Airbnb is based on the nightly rate set by the host, plus the addition of other fees or costs determined by either the host or Airbnb.\"(1) Based on this statement, one can tell that the prices of Airbnb's are not only personal, but also subject to change. \n",
    "\n",
    "The usage of rideshares such as Uber is also gaining popularity with travelers who get to their destination by plane, train, boat, etc. Ubers are mainly used when one does not have a car, which is perfect for those who are constantly traveling. In comparison to public transportation, Ubers are more private, reliable, and faster than any other means of nearby transportation. They are also much cheaper than renting a car, especially for those who are not going to be out and about all of the time. \n",
    "\n",
    "So, we are curious if there is any significant correlation between the Uber usage and Airbnb prices. If there is, maybe we can use this to find out some listings with unreasonably high prices and address it to the company or customers. Also, customers will have more information from our project to guide them through choosing a reasonably priced Airbnb. \n",
    "\n",
    "#### References (include links):\n",
    "\n",
    "1) Price determination given by Airbnb https://www.airbnb.com/help/article/125/how-is-the-price-determined-for-my-reservation\n",
    "\n",
    "2) How Uber is making traveling easier\n",
    "https://www.uber.com/en-NL/blog/how-the-uber-app-makes-travelling-abroad-easier\n"
   ]
  },
  {
   "cell_type": "markdown",
   "metadata": {},
   "source": [
    "# Hypothesis\n"
   ]
  },
  {
   "cell_type": "markdown",
   "metadata": {},
   "source": [
    "The frequency of Uber usage in San Francisco and San Marcos will be directly proportional to prices of nearby Airbnb homes. In other words, average Airbnb prices will be more expensive if there is more Uber usage nearby. \n",
    "\n",
    "This should be a reasonable hypothesis, since the locations where there are more Uber usage tend to be more popular locations with more people. So it makes sense that the AirBnb listing is more expensive there. We also decided to focus on Uber usage rather than general traffic as it may have a better trend of the amount of *traveling* around the area."
   ]
  },
  {
   "cell_type": "markdown",
   "metadata": {},
   "source": [
    "# Data"
   ]
  },
  {
   "cell_type": "markdown",
   "metadata": {},
   "source": [
    "Ideally, we would want to have the following two datasets to answer our research question.\n",
    "\n",
    "The first type of dataset would include Airbnb listings in San Francisco and San Marcos. There should be at least 2 variables about the housing. There should be at least one variable indicating location, which can be addressed in longitudinal and altitudinal, ideally, or zip code, etc. so that we can map the location with the second dataset. And there should be another variable indicating the price of the Airbnb housing. It would be better if we can also have other information, such as how many rooms an Airbnb has and what previous reviews are, since they might also affect the prices. (In order to be more generalizable, we would want to have dataset from at least two or three cities. We currently decide on San Francisco and San Marcos.) For each city, we want at least 1,000 observations, and the more the better in this case. Ideally, they should be collected by some authoritative institutes or through the Airbnb official website, and we would want them to be lately released dataset, so that the prices are more up to date and more useful to indicate real-world existing problems. We would prefer `.csv` datasets, so that each data point represents one Airbnb house with many variables, including location, price, etc. \n",
    "\n",
    "The second type of dataset we need is the distribution of uber usage in San Francisco and San Marcos. It should involve at least 2 variables. There should be at least one variable indicating location, either in the form of longitudinal and altitudinal value, or zip code, etc. And there should be a second variable indicating how many pickups and dropoffs are in each hour/day/month/year for the same location. We will still need to decide what this time range should be through analysing. But we also want the dataset up to date, so they can match with the first type of datasets. It will also be great to have other information like unit price or the route of uber. We need to have at least 1,000 observations, and the more the better. The best way we want to get the data is through some official websites like uber company or government sites. Because we want the dataset to be comprehensive, collected by authoritative officials with trustworthy measures. Similarly to the first dataset, a `.csv` file would be the best format for the purposes of this research.\n"
   ]
  },
  {
   "cell_type": "markdown",
   "metadata": {},
   "source": [
    "# Ethics & Privacy"
   ]
  },
  {
   "cell_type": "markdown",
   "metadata": {},
   "source": [
    "If the dataset we get includes any direct personal information, (e.g. name, home address, phone number), it would have serious privacy and ethical issues. However, permission was gained to use this data through the San Francisco County Transportation Authority (cited from [this website](https://hackernoon.com/visualizing-uber-and-lyft-usage-in-san-francisco-928208b1978a)) and directly through the Uber company (more information given [here](https://movement.uber.com/faqs?lang=en-US)). Therefore, no personal information regarding an arbitrary Uber Driver or Passenger in the data set is revealed through this data. Additionally, it is important to note that all data that we plan to use was legally and officially released to the public online, implying granted permission to use this data.\n",
    "\n",
    "There are no direct privacy concerns regarding the data being used since none of the personal information (e.g. name, home address, phone number) regarding an arbitrary Uber Driver or Passenger in the data set is revealed through this data. \n",
    "\n",
    "Unfortunately, there is still an indirect privacy concern as a result of the chosen dataset revealing the 'pickup address' of an Uber passenger. In some cases, this address could potentially be the stated Uber passenger's home address as well, but no direct correlation can be found.\n",
    "\n",
    "#### Biases in Data and Analysis:\n",
    "- Only concerns the population of San Marcos and San Francisco. Our group chose the specific area we want to observe, mostly because we do not to involve too much variation and confounding variables caused by different states. We will therefore only analyze and compare the two cities for now. If the result we get is significant, we can consider generalizing our analysis to different states as well. \n",
    "- Analysis only concerns Uber usage in chosen areas and not any other usage relating to other means of public transportation (including, but not limited to: taxi, Lyft, bus/transit) in the same area.\n",
    "- Analysis could potentially expose the pattern of Uber rides through chosen areas of cities."
   ]
  },
  {
   "cell_type": "markdown",
   "metadata": {},
   "source": [
    "# Team Expectations "
   ]
  },
  {
   "cell_type": "markdown",
   "metadata": {},
   "source": [
    "- We can conclude the relationship between the house price and how frequently Ubers are called nearby. If our hypothesis are supported by analysis, more calls of Uber will be related to an incline to the price of a close by Airbnb.\n",
    "\n",
    "- Based on the data we have, we can relate the price with the prevalence of Uber usage nearby. Hence, by getting the data of frequency of Uber usage, we can indicate the price of the Airbnb housing around that area.\n",
    "\n",
    "- If there is a significant difference between the assumption and the real price, we can analyze and look for other factors that could influence the price of housing.\n",
    "\n",
    "- We could also potentially find some unreasonable prices on Airbnb and address that to the company and its users. \n"
   ]
  },
  {
   "cell_type": "markdown",
   "metadata": {},
   "source": [
    "# Project Timeline Proposal"
   ]
  },
  {
   "cell_type": "markdown",
   "metadata": {},
   "source": [
    "| Meeting Date  | Meeting Time| Completed Before Meeting  | Discuss at Meeting |\n",
    "|---|---|---|---|\n",
    "| 1/23  |  6:30 PM | Thought about potential final project topics  | Introductions, potential topics, and proposal outline | \n",
    "| 1/30  |  6:30PM |  Choose the topic, find data sets, and complete project proposal outline | Finalize the project proposal, and talk about what is the next step  | \n",
    "| 2/4  | 6:30PM  | Find data sets for the finalized question | Finalize the question, datasets, every other tool that we will be using for the project. Decide on the tasks that each person is going to have for the next upcoming week.    |\n",
    "| 2/11  | 6:30PM  | Start manipulating with data, including visualizing the dataset, trying to find some correlations and patterns between different datasets|Start manipulating with data, including visualizing the dataset, trying to find some correlations and patterns between different datasets.Discuss about what we have found interesting about the datasets, make sure we are still following the right track. Maybe assign each group member with different analysing tasks on datasets.\n",
    "| 2/18  | 6:30PM  | Continue on data analysis and start to write the report in a systematic way to organize the findings.  | Make sure that we are ready to submit what we have done for the project check up |\n",
    "| 3/25  | 6:30PM  | Take time to do individual analysis to bring up to the next meeting | Review what we had submitted for the project check up ad discuss what the next step is for the final project |\n",
    "| 3/3  | 6:30PM  | Read through what we already have for the project and think about things that can be fixed or added. Find things that may raise questions. | Talk about the finalization of the project and assign each member a task to complete for the next upcoming meeting  |\n",
    "| 3/10  | 6:30PM  | Finish draft project report |Finish draft project report. Complete group work survey and discuss about potential problem or places to edit \n",
    "| 3/17  | 6:30PM  | Finish writing up the final report  | Check/revise the final project together and submit the final version on Github  |"
   ]
  }
 ],
 "metadata": {
  "kernelspec": {
   "display_name": "Python 3",
   "language": "python",
   "name": "python3"
  },
  "language_info": {
   "codemirror_mode": {
    "name": "ipython",
    "version": 3
   },
   "file_extension": ".py",
   "mimetype": "text/x-python",
   "name": "python",
   "nbconvert_exporter": "python",
   "pygments_lexer": "ipython3",
   "version": "3.6.7"
  }
 },
 "nbformat": 4,
 "nbformat_minor": 2
}
