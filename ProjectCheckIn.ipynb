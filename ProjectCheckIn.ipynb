{
 "cells": [
  {
   "cell_type": "markdown",
   "metadata": {},
   "source": [
    "# COGS 108 Final Project Check-In"
   ]
  },
  {
   "cell_type": "markdown",
   "metadata": {},
   "source": [
    "# Names\n",
    "\n",
    "- Lian Lumada\n",
    "- Hanbyul Ryu\n",
    "- Emilio Marquez Fernandez\n",
    "- Haimei Yu\n",
    "- Tianye Fan"
   ]
  },
  {
   "cell_type": "markdown",
   "metadata": {},
   "source": [
    "# Group Members IDs\n",
    "\n",
    "- A15131176\n",
    "- A15221709\n",
    "- A13911842\n",
    "- A15255117\n",
    "- A16182582"
   ]
  },
  {
   "cell_type": "markdown",
   "metadata": {},
   "source": [
    "# Accomplishments"
   ]
  },
  {
   "cell_type": "markdown",
   "metadata": {},
   "source": [
    "We switched to a new question: how are Airbnbs in San Francisco affected, in price, by nearby restaurants? And we created a new hypothesis: the average inspection score of restaurants within a 1-mile block of a certain Airbnb will be positively correlated to its daily rate.\n",
    "\n",
    "We found datasets with inspection scores for restaurants, cleaned up various discrepancies within our datasets, filtered our datasets by converting all dataset-related addresses into latitude and longitude, and filtered out all data in the datasets that are identifying personal information. We also found datasets for the airbnbs in San Francisco, which included the prices, location, etc."
   ]
  },
  {
   "cell_type": "markdown",
   "metadata": {},
   "source": [
    "# Going Well"
   ]
  },
  {
   "cell_type": "markdown",
   "metadata": {},
   "source": [
    "Now we have working data sets for San Francisco restaurant inspection results and airbnb listings. We matched the location of restaurants and Airbnb through longitude and latitude, which can help later analysis about pricing, density, etc. We also started visualization and found some distribution patterns about restaurants and Airbnbs. "
   ]
  },
  {
   "cell_type": "markdown",
   "metadata": {},
   "source": [
    "# Struggles"
   ]
  },
  {
   "cell_type": "markdown",
   "metadata": {},
   "source": [
    "With our previous hypothesis, the Uber dataset we planned to use did not have enough details and too much invasive data, so we decided to change our scope from the relationship between Uber frequency and Airbnb to nearby restaurants and Airbnb.\n",
    "\n",
    "The datasets for restaurant inspection scores(2014-16) and Airbnb(2019) in San Francisco have a separate time range and therefore may not be accurate in correlation. There were attempts at finding more recent data sets that would be compatible with our new hypothesis. However, attempts so far have been unsuccessful."
   ]
  },
  {
   "cell_type": "markdown",
   "metadata": {},
   "source": [
    "# Plan Forward"
   ]
  },
  {
   "cell_type": "markdown",
   "metadata": {},
   "source": [
    "We plan to apply k-means to divide restaurants and airbnb housings into clusters and find the relationship between them. We also plan to find the correlation between important factors such as restaurant inspection scores, restaurant density, Airbnb prices, and Airbnb density, in order to figure out which factors have the highest correlation to better understand the relationship between restaurants and Airbnbs in San Francisco.\n",
    "\n",
    "We plan to create visualizations showcasing the various locations of San Francisco airbnb and restaurants that are within our datasets and visualize the correlation of the pricing of airbnbs and the restaurant inspection scores in the form of a heatmap."
   ]
  }
 ],
 "metadata": {
  "kernelspec": {
   "display_name": "Python 3",
   "language": "python",
   "name": "python3"
  },
  "language_info": {
   "codemirror_mode": {
    "name": "ipython",
    "version": 3
   },
   "file_extension": ".py",
   "mimetype": "text/x-python",
   "name": "python",
   "nbconvert_exporter": "python",
   "pygments_lexer": "ipython3",
   "version": "3.6.7"
  }
 },
 "nbformat": 4,
 "nbformat_minor": 2
}
